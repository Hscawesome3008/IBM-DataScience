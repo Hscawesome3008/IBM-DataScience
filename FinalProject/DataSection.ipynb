{
 "cells": [
  {
   "cell_type": "markdown",
   "metadata": {},
   "source": [
    "<h2>Data Section of Final Project</h2>"
   ]
  },
  {
   "cell_type": "markdown",
   "metadata": {},
   "source": [
    "<h4>Data Reqirements</h4>"
   ]
  },
  {
   "cell_type": "markdown",
   "metadata": {},
   "source": [
    "<p>The data regarding the districts in Paris needs to be researched and a suitable usable source identified. If it is found\n",
    "but is not in a usable form, data wrangling and cleaning will have to be performed.</p>\n",
    "<p>The cleansed data will then be used alongside Foursquare data, which is readily available. Foursquare location data will be \n",
    "leveraged to explore or compare districts around Paris, identifying the high traffic areas where consumers go for shopping, \n",
    "dining and entertainment - the areas where the fashion brand are most interested in opening new stores.</p>"
   ]
  },
  {
   "cell_type": "markdown",
   "metadata": {},
   "source": [
    "<p>I have divided this project into two parts:</p>\n",
    "    <p>-Get the data, pre-process and clean the data</p>\n",
    "    <p>-Data analysis, Data visualization and produce the results</p>\n",
    "    "
   ]
  },
  {
   "cell_type": "markdown",
   "metadata": {},
   "source": [
    "<h5>Part 1 includes following steps:</h5>\n",
    "    1. District data for Paris including names, location data if available, and any other details required.<br>\n",
    "    2. Research and find suitable sources for the district data for Paris.<br>\n",
    "    3. Access and explore the data to determine if it can be manipulated for our purposes.<br>\n",
    "    4. Clean the data and convert to a usable form as a dataframe.\n",
    "\n",
    "\n",
    "\n",
    "    "
   ]
  },
  {
   "cell_type": "markdown",
   "metadata": {},
   "source": [
    "<h5>Part 2 includes following steps:</h5>\n",
    "    1.<b>Data Analysis and Location Data:</b><br>\n",
    "        Foursquare location data will be leveraged to explore or compare districts around Paris.<br>\n",
    "        Data manipulation and analysis to derive subsets of the initial data.<br>\n",
    "        Identifying the high traffic areas using data visualization and statistical analysis.<br><br>\n",
    "    2.<b>Visualization:</b><br>\n",
    "        Analysis and plotting visualizations.<br>\n",
    "        Data visualization using various mapping libraries.<br><br>\n",
    "    3.<b>Discussion and Conclusions:</b><br>\n",
    "        Recomendations and results based on the data analysis.<br>\n",
    "        Discussion of any limitations and how the results can be used, and any conclusions that can be drawn.<br>\n",
    "    "
   ]
  },
  {
   "cell_type": "code",
   "execution_count": null,
   "metadata": {},
   "outputs": [],
   "source": []
  }
 ],
 "metadata": {
  "kernelspec": {
   "display_name": "Python",
   "language": "python",
   "name": "conda-env-python-py"
  },
  "language_info": {
   "codemirror_mode": {
    "name": "ipython",
    "version": 3
   },
   "file_extension": ".py",
   "mimetype": "text/x-python",
   "name": "python",
   "nbconvert_exporter": "python",
   "pygments_lexer": "ipython3",
   "version": "3.6.10"
  }
 },
 "nbformat": 4,
 "nbformat_minor": 4
}
