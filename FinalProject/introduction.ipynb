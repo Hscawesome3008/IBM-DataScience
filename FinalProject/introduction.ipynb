{
 "cells": [
  {
   "cell_type": "markdown",
   "metadata": {},
   "source": [
    "<h1>Final Data Science Capstone Project</h1>"
   ]
  },
  {
   "cell_type": "markdown",
   "metadata": {},
   "source": [
    "<h2>Problem Statement : </h2>\n",
    "<h2>    Finding suitable new store location in Parice for fashion retailer using foursqare API </h2>"
   ]
  },
  {
   "cell_type": "markdown",
   "metadata": {},
   "source": [
    "<h3>Introduction/Business Problem</h3>"
   ]
  },
  {
   "cell_type": "markdown",
   "metadata": {},
   "source": [
    " <p>When somebody wants to start a new business,whatever it may be,then first he needs to understand the basic business requirements of that particular business i.e basic required knowledge to start a business, along with that he needs to choose the best or right location for his business so that he will earn maximum profit and this is key the part of decision making process</p>\n"
   ]
  },
  {
   "cell_type": "markdown",
   "metadata": {},
   "source": [
    "<p>My project idea is to predict the suitable location in Parice for a fashion retailer.I've selected given the exciting task of assisting them to make data-driven decisions on the new locations that are most suitable for their new stores in Paris. This will be a major part of their decision-making process, the other being on the ground qualitative analysis of districts once this data and report are reviewed and studied.</p>"
   ]
  },
  {
   "cell_type": "markdown",
   "metadata": {},
   "source": [
    "<p>The fashion brand is not what is considered high-end, they are positioned in upper end of the\n",
    "fast fashion market. As such, they do not seek stores in the premium upmarket strips like Avenue Montaigne, but rather, \n",
    "in high traffic areas where consumers go for shopping, restaurants and entertainment. Foursquare data will be very helpful in \n",
    "making data-driven decisions about the best of those areas.</p>"
   ]
  },
  {
   "cell_type": "markdown",
   "metadata": {},
   "source": [
    "<p>Qualitative data from another retailer that they know, suggests that the best locations to open new fashion retail stores may\n",
    "not only be where other clothing is located. This data strongly suggests that the best places are in fact areas that are near\n",
    "French Restaurants, Cafés and Wine Bars. Parisians are very social people that frequent these place often, so opening new stores\n",
    "in these locations is becoming popular.</p>\n",
    "<p>The analysis and recommendations for new store locations will focus on general districts with these establishments,\n",
    "not on specific store addresses. Narrowing down the best district options derived from analysis allows for either further \n",
    "research tobe conducted, advising agents of the chosen district, or on the ground searching for specific sites by the\n",
    "company's personnel.</p>"
   ]
  },
  {
   "cell_type": "markdown",
   "metadata": {},
   "source": [
    "<p>Without leveraging data to make decisions about new store locations, the company could spend countless hours walking around districts, consulting many real estate agents with their own district biases, and end up opening in yet another location that is not ideal.Therefore,Data will provide better answers and better solutions to their task at hand.</p>\n",
    "\n",
    "<h5>Outcomes</h5>\n",
    "\n",
    "<p>The goal is to identify the best districts - Arrondissements - to open new stores as part of the company's plan. The results will be translated to management in a simple form that will convey the data-driven analysis for the best locations to open stores.</p>"
   ]
  }
 ],
 "metadata": {
  "kernelspec": {
   "display_name": "Python",
   "language": "python",
   "name": "conda-env-python-py"
  },
  "language_info": {
   "codemirror_mode": {
    "name": "ipython",
    "version": 3
   },
   "file_extension": ".py",
   "mimetype": "text/x-python",
   "name": "python",
   "nbconvert_exporter": "python",
   "pygments_lexer": "ipython3",
   "version": "3.6.10"
  }
 },
 "nbformat": 4,
 "nbformat_minor": 4
}
