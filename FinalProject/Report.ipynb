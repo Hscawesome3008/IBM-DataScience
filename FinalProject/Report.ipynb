{
 "cells": [
  {
   "cell_type": "markdown",
   "metadata": {},
   "source": [
    "<h1>Final Data Science Capstone Project Report</h1>"
   ]
  },
  {
   "cell_type": "markdown",
   "metadata": {},
   "source": [
    "<h2>Problem Statement : </h2>\n",
    "<h2>    Finding suitable new store location in Parice for fashion retailer using foursqare API </h2>"
   ]
  },
  {
   "cell_type": "markdown",
   "metadata": {},
   "source": [
    "<h3>1 . Introduction/Business Problem</h3>"
   ]
  },
  {
   "cell_type": "markdown",
   "metadata": {},
   "source": [
    "<p>When somebody wants to start a new business,whatever it may be,then first he needs to understand the basic business requirements of that particular business i.e basic required knowledge to start a business, along with that he needs to choose the best or right location for his business so that he will earn maximum profit and this is key the part of decision making process</p>\n"
   ]
  },
  {
   "cell_type": "markdown",
   "metadata": {},
   "source": [
    "<p>The fashion brand is not what is considered high-end, they are positioned in upper end of the\n",
    "fast fashion market. As such, they do not seek stores in the premium upmarket strips like Avenue Montaigne, but rather, \n",
    "in high traffic areas where consumers go for shopping, restaurants and entertainment. Foursquare data will be very helpful in \n",
    "making data-driven decisions about the best of those areas.</p>"
   ]
  },
  {
   "cell_type": "markdown",
   "metadata": {},
   "source": [
    "<p>My project idea is to predict the suitable location in Parice for a fashion retailer.I've selected given the exciting task of assisting them to make data-driven decisions on the new locations that are most suitable for their new stores in Paris. This will be a major part of their decision-making process, the other being on the ground qualitative analysis of districts once this data and report are reviewed and studied.</p>"
   ]
  },
  {
   "cell_type": "markdown",
   "metadata": {},
   "source": [
    "<p>Qualitative data from another retailer that they know, suggests that the best locations to open new fashion retail stores may\n",
    "not only be where other clothing is located. This data strongly suggests that the best places are in fact areas that are near\n",
    "French Restaurants, Cafés and Wine Bars. Parisians are very social people that frequent these place often, so opening new stores\n",
    "in these locations is becoming popular.</p>\n",
    "<p>The analysis and recommendations for new store locations will focus on general districts with these establishments,\n",
    "not on specific store addresses. Narrowing down the best district options derived from analysis allows for either further \n",
    "research to be conducted, advising agents of the chosen district, or on the ground searching for specific sites by the\n",
    "company's personnel.</p>"
   ]
  },
  {
   "cell_type": "markdown",
   "metadata": {},
   "source": [
    "<p>Without leveraging data to make decisions about new store locations, the company could spend countless hours walking around districts, consulting many real estate agents with their own district biases, and end up opening in yet another location that is not ideal.Therefore,Data will provide better answers and better solutions to their task at hand.</p>\n",
    "\n",
    "<p>The goal is to identify the best districts - Arrondissements - to open new stores as part of the company's plan. The results will be translated to management in a simple form that will convey the data-driven analysis for the best locations to open stores.</p>"
   ]
  },
  {
   "cell_type": "markdown",
   "metadata": {},
   "source": [
    "<h3>2 . Data Requirements and Collection</h3>"
   ]
  },
  {
   "cell_type": "markdown",
   "metadata": {},
   "source": [
    "<h4>Data Requirements</h4>"
   ]
  },
  {
   "cell_type": "markdown",
   "metadata": {},
   "source": [
    "<p>The data regarding the districts in Paris needs to be researched and a suitable usable source identified. If it is found\n",
    "but is not in a usable form, data wrangling and cleaning will have to be performed.</p>\n",
    "<p>The cleansed data will then be used alongside Foursquare data, which is readily available. Foursquare location data will be \n",
    "leveraged to explore or compare districts around Paris, identifying the high traffic areas where consumers go for shopping, \n",
    "dining and entertainment - the areas where the fashion brand are most interested in opening new stores.</p>"
   ]
  },
  {
   "cell_type": "markdown",
   "metadata": {},
   "source": [
    "<h4>Data Collection</h4>"
   ]
  },
  {
   "cell_type": "markdown",
   "metadata": {},
   "source": [
    "<p>Paris is divided into 20 Arrondissements Municipaux (or administrative districts), shortened to just arrondissements. \n",
    "They and normally referenced by the arrondissement number rather than a name.Data for the arrondissements is necessary to\n",
    "select the most suitable of these areas for new stores.</p>"
   ]
  },
  {
   "cell_type": "markdown",
   "metadata": {},
   "source": [
    "Data available at : [https://opendata.paris.fr/explore/dataset/arrondissements/table/?dataChart](https://opendata.paris.fr/explore/dataset/arrondissements/table/?dataChart)"
   ]
  },
  {
   "cell_type": "markdown",
   "metadata": {},
   "source": [
    "<h5>It includes following steps:</h5><br>\n",
    "    1. District data for Paris including names, location data if available, and any other details required.<br>\n",
    "    2. Research and find suitable sources for the district data for Paris.<br>\n",
    "    3. Access and explore the data to determine if it can be manipulated for our purposes.<br>\n",
    "    4. Clean the data and convert to a usable form as a dataframe."
   ]
  },
  {
   "cell_type": "markdown",
   "metadata": {},
   "source": [
    "<h3>3 . Methodology Section</h3>"
   ]
  },
  {
   "cell_type": "markdown",
   "metadata": {},
   "source": [
    "<h5>It includes following steps:</h5><br>\n",
    "    1.<b>Data Analysis and Location Data:</b><br>\n",
    "        a)  Foursquare location data will be leveraged to explore or compare districts around Paris.<br>\n",
    "        b)  Data manipulation and analysis to derive subsets of the initial data.<br>\n",
    "        c)  Identifying the high traffic areas using data visualization and statistical analysis.<br>\n",
    "    2.<b>Visualization:</b><br>\n",
    "        a)  Analysis and plotting visualizations.<br>\n",
    "        b)  Data visualization using various mapping libraries like seaborn library.<br>\n",
    "    "
   ]
  },
  {
   "cell_type": "markdown",
   "metadata": {},
   "source": [
    "<h3>4 . Results Section</h3>"
   ]
  },
  {
   "cell_type": "markdown",
   "metadata": {},
   "source": [
    "Inferential analysis using the data, as well as domain knowledge of retail and marketing, allow the list to be focussed to \n",
    "just 3 neighbourhoods from the previous 8.\n",
    "\n",
    "The reasoning being that if the 3 criteria have been met - identifying neighbourhoods that are lively with Restaurants, Cafés and Wine Bars - adding Clothing Stores into the mix of stores in the area is a significant bonus. Having some of the same category of stores in the same area - especially in fashion retail - is very desirable as a retailer.\n",
    "\n",
    "So we can increase the criteria to include Restaurants, Cafés, Wine Bars and Clothing Stores - which narrows down and focuses the suggested districts for new stores to be located, and at the same time provides better locations for the brand.\n",
    "\n",
    "So the final 3 prospective neighborhoods for new store locations are where 4 criteria are met:\n",
    "\n",
    "- 3eme Ardt : Arrondissement 3, Temple\n",
    "- 4eme Ardt : Arrondissement 4, Hotel-de-Ville\n",
    "- 6eme Ardt : Arrondissement 6, Luxembourg"
   ]
  },
  {
   "cell_type": "markdown",
   "metadata": {},
   "source": [
    "<h3>5 . Discussion Section</h3>"
   ]
  },
  {
   "cell_type": "markdown",
   "metadata": {},
   "source": [
    "I guess it's not a surprise that these districts are all very centrally located in the circular arrangement of Paris's arrondissements. Locations fitting the criteria for popular venues would normally be in central locations in many cities of the world.\n",
    "\n",
    "From this visualisation it is clear that on a practical level, with no data to base decisions on, the circle of the 20 districs is very large, and researching and then visiting them all would be a daunting and time consuming task. We have narrowed the search area down significantly from 20 potential districts to 3 that should suit the client's retail business.\n",
    "\n",
    "We have made inferences from the data in making the location recommendations, but that is exactly the point. There is no right or wrong answer or conclusion for the task at hand. The job of data analysis here is to steer a course for the location selection of new stores (i) to meet the criteria of being in neighbourhoods that are lively with abundant leisure venues, and (ii) to narrow the search down to just a few of the main areas that are best suited to match the criteria."
   ]
  },
  {
   "cell_type": "markdown",
   "metadata": {},
   "source": [
    "<h3>6 . Conclusion</h3>"
   ]
  },
  {
   "cell_type": "markdown",
   "metadata": {},
   "source": [
    "There are many ways this analysis could have been performed based on different methodolgy and perhaps different data sources. I chose the method I selected as it was a straight forward way to narrow down the options, not complicating what is actually simple in many ways – meeting the the critera for the surrounding venues, and in my case, domain knowledge I have on the subject. I originally intended to use the clustering algorythms to cluster the data, but as it progressed it became obvious that this only complicated the task at hand. The analysis and results are not an end point, but rather a starting point that will guide the next part of the process to find specific store locations. The next part will involve domain knowledge of the industry, and perhaps, of the city itself. But the data analysis and resulting recommendations have greatly narrowed down the best district options based on data and what we can infer from it.\n",
    "\n",
    "Without leveraging data to make focussed decisions, the process could have been drawn out and resulted in new stores opening in sub-standard areas for this retailer. Data has helped to provide a better strategy and way forward, these data-driven decisions will lead to a better solution in the end.\n",
    "\n",
    "Thanks for taking part in my project!"
   ]
  }
 ],
 "metadata": {
  "kernelspec": {
   "display_name": "Python",
   "language": "python",
   "name": "conda-env-python-py"
  },
  "language_info": {
   "codemirror_mode": {
    "name": "ipython",
    "version": 3
   },
   "file_extension": ".py",
   "mimetype": "text/x-python",
   "name": "python",
   "nbconvert_exporter": "python",
   "pygments_lexer": "ipython3",
   "version": "3.6.10"
  }
 },
 "nbformat": 4,
 "nbformat_minor": 4
}
